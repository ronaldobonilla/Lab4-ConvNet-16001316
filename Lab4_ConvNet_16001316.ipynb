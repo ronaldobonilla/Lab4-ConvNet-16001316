{
  "nbformat": 4,
  "nbformat_minor": 0,
  "metadata": {
    "colab": {
      "name": "Lab4-ConvNet-16001316.ipynb",
      "provenance": [],
      "collapsed_sections": [],
      "authorship_tag": "ABX9TyOe1/BWp8ekZfhh/UrFj70A",
      "include_colab_link": true
    },
    "kernelspec": {
      "name": "python3",
      "display_name": "Python 3"
    }
  },
  "cells": [
    {
      "cell_type": "markdown",
      "metadata": {
        "id": "view-in-github",
        "colab_type": "text"
      },
      "source": [
        "<a href=\"https://colab.research.google.com/github/ronaldobonilla/Lab4-ConvNet-16001316/blob/master/Lab4_ConvNet_16001316.ipynb\" target=\"_parent\"><img src=\"https://colab.research.google.com/assets/colab-badge.svg\" alt=\"Open In Colab\"/></a>"
      ]
    },
    {
      "cell_type": "code",
      "metadata": {
        "id": "JDhGnsl7ibxe",
        "colab_type": "code",
        "colab": {}
      },
      "source": [
        "%tensorflow_version 2.x\n",
        "\n",
        "import tensorflow as tf\n",
        "import tensorflow_hub as hub\n",
        "\n",
        "from tensorflow.keras.models import Sequential\n",
        "from tensorflow.keras.layers import Dense, Flatten, Dropout, Conv2D, MaxPooling2D\n",
        "from tensorflow.keras.preprocessing.image import ImageDataGenerator\n",
        "from keras.datasets import mnist #Usaremos el dataset de Mnist de los dígitos escritos a mano\n",
        "\n",
        "import os\n",
        "import numpy as np\n",
        "import PIL.Image as Image\n",
        "import matplotlib.pylab as plt\n",
        "\n",
        "#dark mode\n",
        "plt.rc_context({'xtick.color':'w', 'ytick.color':'w', 'text.color':'w', 'axes.labelcolor':'w'})\n",
        "\n",
        "seed=1234\n",
        "np.random.seed(seed)\n",
        "tf.random.set_seed(seed)"
      ],
      "execution_count": 0,
      "outputs": []
    },
    {
      "cell_type": "markdown",
      "metadata": {
        "id": "gs6Z-1Z7sE4s",
        "colab_type": "text"
      },
      "source": [
        "Cargamos el dataset"
      ]
    },
    {
      "cell_type": "code",
      "metadata": {
        "id": "hPOSXYUor9te",
        "colab_type": "code",
        "colab": {
          "base_uri": "https://localhost:8080/",
          "height": 51
        },
        "outputId": "03f90b18-c2b1-41cb-d4ed-42223bb19b75"
      },
      "source": [
        "(X_train, y_train), (X_test, y_test) = mnist.load_data()"
      ],
      "execution_count": 3,
      "outputs": [
        {
          "output_type": "stream",
          "text": [
            "Downloading data from https://s3.amazonaws.com/img-datasets/mnist.npz\n",
            "11493376/11490434 [==============================] - 0s 0us/step\n"
          ],
          "name": "stdout"
        }
      ]
    },
    {
      "cell_type": "code",
      "metadata": {
        "id": "LTDhbc-osKIr",
        "colab_type": "code",
        "colab": {
          "base_uri": "https://localhost:8080/",
          "height": 282
        },
        "outputId": "7f4db48b-ee2e-47a3-cce1-823dd5b4a312"
      },
      "source": [
        "plt.imshow(X_train[0])"
      ],
      "execution_count": 7,
      "outputs": [
        {
          "output_type": "execute_result",
          "data": {
            "text/plain": [
              "<matplotlib.image.AxesImage at 0x7efcc83f1cc0>"
            ]
          },
          "metadata": {
            "tags": []
          },
          "execution_count": 7
        },
        {
          "output_type": "display_data",
          "data": {
            "image/png": "[encoded data removed]",
            "text/plain": [
              "<Figure size 432x288 with 1 Axes>"
            ]
          },
          "metadata": {
            "tags": []
          }
        }
      ]
    },
    {
      "cell_type": "markdown",
      "metadata": {
        "id": "i8l8TvePtxEW",
        "colab_type": "text"
      },
      "source": [
        "Modificamos el dataset para que se adapte a nuestro modelo"
      ]
    },
    {
      "cell_type": "code",
      "metadata": {
        "id": "76vQONGrtdHd",
        "colab_type": "code",
        "colab": {}
      },
      "source": [
        "#60000 images, size 28x28, greyscale\n",
        "X_train = X_train.reshape(60000,28,28,1)\n",
        "X_test = X_test.reshape(10000,28,28,1)"
      ],
      "execution_count": 0,
      "outputs": []
    },
    {
      "cell_type": "code",
      "metadata": {
        "id": "DKLozXRnuFLm",
        "colab_type": "code",
        "colab": {
          "base_uri": "https://localhost:8080/",
          "height": 34
        },
        "outputId": "e9c5f05e-af38-4728-aaaa-659148bfad91"
      },
      "source": [
        "from keras.utils import to_categorical\n",
        "#one-hot encode\n",
        "#Por cada categoria se crea un arreglo de valores binarios, donde un 1\n",
        "#aparece en la posición que hace match con la categoría correspondiente\n",
        "#En este caso aparece un 1 en la 6a posición, porque es la que corresponde al numero 5\n",
        "#de la imagen de arriba.\n",
        "y_train = to_categorical(y_train)\n",
        "y_test = to_categorical(y_test)\n",
        "y_train[0]"
      ],
      "execution_count": 9,
      "outputs": [
        {
          "output_type": "execute_result",
          "data": {
            "text/plain": [
              "array([0., 0., 0., 0., 0., 1., 0., 0., 0., 0.], dtype=float32)"
            ]
          },
          "metadata": {
            "tags": []
          },
          "execution_count": 9
        }
      ]
    },
    {
      "cell_type": "markdown",
      "metadata": {
        "id": "vCe4GiC3wSNy",
        "colab_type": "text"
      },
      "source": [
        "# Build the model"
      ]
    },
    {
      "cell_type": "code",
      "metadata": {
        "id": "XFBchpl5wXjc",
        "colab_type": "code",
        "colab": {}
      },
      "source": [
        "\n",
        "model = Sequential()\n",
        "#Agregamos las capas convolucionales\n",
        "model.add(Conv2D(64, kernel_size=3, activation='relu', input_shape=(28,28,1)))#kernel_size son las dimensiones de la matriz del filtro (3x3)\n",
        "model.add(Conv2D(32, kernel_size=3, activation='relu'))\n",
        "model.add(Flatten())\n",
        "model.add(Dense(10, activation='softmax'))"
      ],
      "execution_count": 0,
      "outputs": []
    },
    {
      "cell_type": "markdown",
      "metadata": {
        "id": "Xl7PZGn_zzGW",
        "colab_type": "text"
      },
      "source": [
        "# Compilamos el modelo"
      ]
    },
    {
      "cell_type": "code",
      "metadata": {
        "id": "tEicoCK2z11v",
        "colab_type": "code",
        "colab": {
          "base_uri": "https://localhost:8080/",
          "height": 289
        },
        "outputId": "cd9f68ef-89b1-4e2d-8ba3-c77a5f714b87"
      },
      "source": [
        "model.compile(optimizer='adam', loss='categorical_crossentropy', metrics=['accuracy'])\n",
        "model.summary()"
      ],
      "execution_count": 15,
      "outputs": [
        {
          "output_type": "stream",
          "text": [
            "Model: \"sequential\"\n",
            "_________________________________________________________________\n",
            "Layer (type)                 Output Shape              Param #   \n",
            "=================================================================\n",
            "conv2d (Conv2D)              (None, 26, 26, 64)        640       \n",
            "_________________________________________________________________\n",
            "conv2d_1 (Conv2D)            (None, 24, 24, 32)        18464     \n",
            "_________________________________________________________________\n",
            "flatten (Flatten)            (None, 18432)             0         \n",
            "_________________________________________________________________\n",
            "dense (Dense)                (None, 10)                184330    \n",
            "=================================================================\n",
            "Total params: 203,434\n",
            "Trainable params: 203,434\n",
            "Non-trainable params: 0\n",
            "_________________________________________________________________\n"
          ],
          "name": "stdout"
        }
      ]
    },
    {
      "cell_type": "markdown",
      "metadata": {
        "id": "Zle3dC_i0z1p",
        "colab_type": "text"
      },
      "source": [
        "# Entrenamos el modelo"
      ]
    },
    {
      "cell_type": "code",
      "metadata": {
        "id": "zd4_9BFD02OF",
        "colab_type": "code",
        "colab": {
          "base_uri": "https://localhost:8080/",
          "height": 187
        },
        "outputId": "7ec1383d-0df5-409d-9f2d-2106a6ce3b8a"
      },
      "source": [
        "model.fit(X_train, y_train, validation_data=(X_test, y_test), epochs=4)"
      ],
      "execution_count": 16,
      "outputs": [
        {
          "output_type": "stream",
          "text": [
            "Train on 60000 samples, validate on 10000 samples\n",
            "Epoch 1/4\n",
            "60000/60000 [==============================] - 172s 3ms/sample - loss: 0.0521 - accuracy: 0.9844 - val_loss: 0.0823 - val_accuracy: 0.9766\n",
            "Epoch 2/4\n",
            "60000/60000 [==============================] - 170s 3ms/sample - loss: 0.0295 - accuracy: 0.9913 - val_loss: 0.0938 - val_accuracy: 0.9762\n",
            "Epoch 3/4\n",
            "60000/60000 [==============================] - 171s 3ms/sample - loss: 0.0241 - accuracy: 0.9926 - val_loss: 0.0963 - val_accuracy: 0.9800\n",
            "Epoch 4/4\n",
            "60000/60000 [==============================] - 171s 3ms/sample - loss: 0.0205 - accuracy: 0.9937 - val_loss: 0.1344 - val_accuracy: 0.9750\n"
          ],
          "name": "stdout"
        },
        {
          "output_type": "execute_result",
          "data": {
            "text/plain": [
              "<tensorflow.python.keras.callbacks.History at 0x7efcbd528ac8>"
            ]
          },
          "metadata": {
            "tags": []
          },
          "execution_count": 16
        }
      ]
    },
    {
      "cell_type": "markdown",
      "metadata": {
        "id": "GwTzSSft2_DZ",
        "colab_type": "text"
      },
      "source": [
        "## Probamos el modelo"
      ]
    },
    {
      "cell_type": "code",
      "metadata": {
        "id": "OqVPV3KI2dmk",
        "colab_type": "code",
        "colab": {
          "base_uri": "https://localhost:8080/",
          "height": 221
        },
        "outputId": "6e118d22-0e20-4874-ca0a-3e56a05ed269"
      },
      "source": [
        "#Desplegamos el arreglo de probabilidades para los primeros 4 ejemplos de dataset de pruebas\n",
        "model.predict(X_test[:4])"
      ],
      "execution_count": 17,
      "outputs": [
        {
          "output_type": "execute_result",
          "data": {
            "text/plain": [
              "array([[1.8906712e-16, 2.6556833e-26, 2.2690522e-16, 2.4664295e-14,\n",
              "        1.2347072e-24, 1.2785884e-18, 1.5903092e-30, 1.0000000e+00,\n",
              "        8.0507654e-20, 4.4146150e-15],\n",
              "       [2.9898693e-16, 5.9196337e-15, 1.0000000e+00, 2.2972523e-17,\n",
              "        3.4490369e-29, 1.5342502e-26, 1.3470500e-14, 4.6452154e-33,\n",
              "        2.4748799e-17, 1.7831873e-25],\n",
              "       [2.4740366e-12, 1.0000000e+00, 3.3929701e-09, 5.3306282e-16,\n",
              "        5.4538575e-08, 3.9432351e-08, 4.9543859e-15, 2.4144495e-12,\n",
              "        2.1092731e-08, 6.6827979e-14],\n",
              "       [1.0000000e+00, 1.2088681e-33, 2.7132403e-20, 8.7007729e-27,\n",
              "        1.4756408e-21, 4.9591546e-21, 1.4544012e-18, 9.8635657e-25,\n",
              "        8.9680755e-25, 3.1369064e-17]], dtype=float32)"
            ]
          },
          "metadata": {
            "tags": []
          },
          "execution_count": 17
        }
      ]
    },
    {
      "cell_type": "code",
      "metadata": {
        "id": "6o_4dHxg25NF",
        "colab_type": "code",
        "colab": {
          "base_uri": "https://localhost:8080/",
          "height": 85
        },
        "outputId": "4653ebf9-ef15-477d-de1d-ddf94ad3809b"
      },
      "source": [
        "#Verificamos que las predicciones coincidan con los valores verdaderos\n",
        "y_test[:4]"
      ],
      "execution_count": 18,
      "outputs": [
        {
          "output_type": "execute_result",
          "data": {
            "text/plain": [
              "array([[0., 0., 0., 0., 0., 0., 0., 1., 0., 0.],\n",
              "       [0., 0., 1., 0., 0., 0., 0., 0., 0., 0.],\n",
              "       [0., 1., 0., 0., 0., 0., 0., 0., 0., 0.],\n",
              "       [1., 0., 0., 0., 0., 0., 0., 0., 0., 0.]], dtype=float32)"
            ]
          },
          "metadata": {
            "tags": []
          },
          "execution_count": 18
        }
      ]
    },
    {
      "cell_type": "markdown",
      "metadata": {
        "id": "zv9Vc6da5MJX",
        "colab_type": "text"
      },
      "source": [
        "Como pudimos observar, obtuvimos un accuracy del 99% luego de entrenar al modelo\n",
        "Y en las pruebas acertó en los 4 ejemplos con un 100% de certeza."
      ]
    }
  ]
}